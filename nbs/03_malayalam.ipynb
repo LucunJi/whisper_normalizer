{
 "cells": [
  {
   "cell_type": "markdown",
   "id": "730b39f7-94eb-4496-999e-1a0c5a1ad9ea",
   "metadata": {},
   "source": [
    "## Malayalam Text normalization\n",
    "\n",
    "An attempt to do normalization in Malayalam.\n",
    "\n",
    "TO READ:\n",
    "\n",
    "https://unicode.org/reports/tr15/"
   ]
  },
  {
   "cell_type": "code",
   "execution_count": null,
   "id": "ccb040df-f503-4e5a-837d-525ea2fdafff",
   "metadata": {},
   "outputs": [],
   "source": [
    "#| default_exp malayalam"
   ]
  },
  {
   "cell_type": "code",
   "execution_count": null,
   "id": "9d57a998-688f-45db-aa8f-c4cfd73529ee",
   "metadata": {},
   "outputs": [],
   "source": [
    "#| hide\n",
    "from nbdev.showdoc import show_doc"
   ]
  },
  {
   "cell_type": "code",
   "execution_count": null,
   "id": "7c6ba902-9364-4cba-aa0f-13606145ef5d",
   "metadata": {},
   "outputs": [],
   "source": [
    "#| export\n",
    "import re\n",
    "import unicodedata\n",
    "\n",
    "import regex"
   ]
  },
  {
   "cell_type": "code",
   "execution_count": null,
   "id": "f1a829d6-1f9d-4fdc-98f3-da5e7aa127b6",
   "metadata": {},
   "outputs": [],
   "source": [
    "#| export\n",
    "class MalayalamTextNormalizer:\n",
    "    \"\"\"BasicTextNormalizer removes vowels in languages like Malayalam which was identified by [kavya in this tweet](https://twitter.com/kavya_manohar/status/1752574864618365059).\n",
    "\n",
    "    So this is an attempt to build text normalizer for malayalam\n",
    "\"\"\"\n",
    "        # self.clean = (\n",
    "        #     remove_symbols_and_diacritics if remove_diacritics else remove_symbols\n",
    "        # )\n",
    "        # self.split_letters = split_letters\n",
    "\n",
    "    def __call__(self, s: str):\n",
    "        s = s.lower()\n",
    "        s = re.sub(r\"[<\\[][^>\\]]*[>\\]]\", \"\", s)  # remove words between brackets\n",
    "        s = re.sub(r\"\\(([^)]+?)\\)\", \"\", s)  # remove words between parenthesis\n",
    "        s = re.sub(r\"\\s+'\", \"'\", s)  # when there's a space before an apostrophe\n",
    "        # remove numbers and English alphabets from a string\n",
    "        s = re.sub('[a-zA-Z0-9]', '', s)\n",
    "        # remove punctuation characters\n",
    "        s = re.sub('[-,.:]', '', s)\n",
    "        \n",
    "\n",
    "        # if self.split_letters:\n",
    "        #     s = \" \".join(regex.findall(r\"\\X\", s, regex.U))\n",
    "\n",
    "        s = re.sub(\n",
    "            r\"\\s+\", \" \", s\n",
    "        )  # replace any successive whitespace characters with a space\n",
    "\n",
    "        return s"
   ]
  },
  {
   "cell_type": "code",
   "execution_count": null,
   "id": "51f96ad9-bcd4-4de7-a738-81208a9fe4a0",
   "metadata": {},
   "outputs": [],
   "source": [
    "normalizer = MalayalamTextNormalizer()"
   ]
  },
  {
   "cell_type": "code",
   "execution_count": null,
   "id": "7c57debb-c4a8-48eb-94b6-356a320877ae",
   "metadata": {},
   "outputs": [
    {
     "data": {
      "text/plain": [
       "'എന്റെ കമ്പ്യൂട്ടറിനു് എന്റെ ഭാഷ'"
      ]
     },
     "execution_count": null,
     "metadata": {},
     "output_type": "execute_result"
    }
   ],
   "source": [
    "normalizer(\"എന്റെ കമ്പ്യൂട്ടറിനു് എന്റെ ഭാഷ\")"
   ]
  },
  {
   "cell_type": "code",
   "execution_count": null,
   "id": "fc3203a4-e02f-4019-8f8d-f43d06348914",
   "metadata": {},
   "outputs": [
    {
     "data": {
      "text/plain": [
       "'കൊച്ചി കെഎസ്ഇബി മുൻ ചെയർമാനും സംസ്ഥാന വനംവകുപ്പ് മേധാവിയുമായിരുന്ന ടിഎം മനോഹരൻ അന്തരിച്ചു ശനിയാഴ്ച വെെകീട്ട് ന് കളമശ്ശേരിയിലെ വീട്ടിൽ'"
      ]
     },
     "execution_count": null,
     "metadata": {},
     "output_type": "execute_result"
    }
   ],
   "source": [
    "normalizer(\"കൊച്ചി: കെ.എസ്.ഇ.ബി. മുൻ ചെയർമാനും സംസ്ഥാന വനംവകുപ്പ് മേധാവിയുമായിരുന്ന ടി.എം മനോഹരൻ (71) അന്തരിച്ചു. ശനിയാഴ്ച വെെകീട്ട് 7.30-ന് കളമശ്ശേരിയിലെ വീട്ടിൽ.\")"
   ]
  },
  {
   "cell_type": "code",
   "execution_count": null,
   "id": "7dc23a6e-6e53-4dbf-a12c-5d241ec6ed4a",
   "metadata": {},
   "outputs": [],
   "source": [
    "#| hide\n",
    "import nbdev; nbdev.nbdev_export()"
   ]
  },
  {
   "cell_type": "code",
   "execution_count": null,
   "id": "495f47a1-341d-491e-8db6-29f811faaa1d",
   "metadata": {},
   "outputs": [],
   "source": []
  }
 ],
 "metadata": {
  "kernelspec": {
   "display_name": "python3",
   "language": "python",
   "name": "python3"
  }
 },
 "nbformat": 4,
 "nbformat_minor": 5
}
