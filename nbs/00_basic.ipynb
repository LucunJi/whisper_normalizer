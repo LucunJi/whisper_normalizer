{
 "cells": [
  {
   "attachments": {},
   "cell_type": "markdown",
   "metadata": {},
   "source": [
    "# WhisperNormalizer Base Module\n",
    "\n",
    "> OpenAI's Whisper Normalizer implementation\n",
    "\n"
   ]
  },
  {
   "cell_type": "code",
   "execution_count": null,
   "metadata": {},
   "outputs": [],
   "source": [
    "#| default_exp basic"
   ]
  },
  {
   "cell_type": "code",
   "execution_count": null,
   "metadata": {},
   "outputs": [],
   "source": [
    "#| hide\n",
    "from nbdev.showdoc import show_doc"
   ]
  },
  {
   "cell_type": "code",
   "execution_count": null,
   "metadata": {},
   "outputs": [],
   "source": [
    "#| export\n",
    "import re\n",
    "import unicodedata\n",
    "\n",
    "import regex\n",
    "\n",
    "# non-ASCII letters that are not separated by \"NFKD\" normalization\n",
    "ADDITIONAL_DIACRITICS = {\n",
    "    \"œ\": \"oe\",\n",
    "    \"Œ\": \"OE\",\n",
    "    \"ø\": \"o\",\n",
    "    \"Ø\": \"O\",\n",
    "    \"æ\": \"ae\",\n",
    "    \"Æ\": \"AE\",\n",
    "    \"ß\": \"ss\",\n",
    "    \"ẞ\": \"SS\",\n",
    "    \"đ\": \"d\",\n",
    "    \"Đ\": \"D\",\n",
    "    \"ð\": \"d\",\n",
    "    \"Ð\": \"D\",\n",
    "    \"þ\": \"th\",\n",
    "    \"Þ\": \"th\",\n",
    "    \"ł\": \"l\",\n",
    "    \"Ł\": \"L\",\n",
    "}\n",
    "\n",
    "def remove_symbols_and_diacritics(s: str, keep=\"\"):\n",
    "    \"\"\"\n",
    "    Replace any other markers, symbols, and punctuations with a space,\n",
    "    and drop any diacritics (category 'Mn' and some manual mappings)\n",
    "    \"\"\"\n",
    "    return \"\".join(\n",
    "        c\n",
    "        if c in keep\n",
    "        else ADDITIONAL_DIACRITICS[c]\n",
    "        if c in ADDITIONAL_DIACRITICS\n",
    "        else \"\"\n",
    "        if unicodedata.category(c) == \"Mn\"\n",
    "        else \" \"\n",
    "        if unicodedata.category(c)[0] in \"MSP\"\n",
    "        else c\n",
    "        for c in unicodedata.normalize(\"NFKD\", s)\n",
    "    )\n",
    "\n",
    "\n",
    "def remove_symbols(s: str):\n",
    "    \"\"\"\n",
    "    Replace any other markers, symbols, punctuations with a space, keeping diacritics\n",
    "    \"\"\"\n",
    "    return \"\".join(\n",
    "        \" \" if unicodedata.category(c)[0] in \"MSP\" else c\n",
    "        for c in unicodedata.normalize(\"NFKC\", s)\n",
    "    )\n"
   ]
  },
  {
   "cell_type": "code",
   "execution_count": null,
   "metadata": {},
   "outputs": [],
   "source": [
    "#| export\n",
    "class BasicTextNormalizer:\n",
    "    def __init__(self, remove_diacritics: bool = False, split_letters: bool = False):\n",
    "        self.clean = (\n",
    "            remove_symbols_and_diacritics if remove_diacritics else remove_symbols\n",
    "        )\n",
    "        self.split_letters = split_letters\n",
    "\n",
    "    def __call__(self, s: str):\n",
    "        s = s.lower()\n",
    "        s = re.sub(r\"[<\\[][^>\\]]*[>\\]]\", \"\", s)  # remove words between brackets\n",
    "        s = re.sub(r\"\\(([^)]+?)\\)\", \"\", s)  # remove words between parenthesis\n",
    "        s = self.clean(s).lower()\n",
    "\n",
    "        if self.split_letters:\n",
    "            s = \" \".join(regex.findall(r\"\\X\", s, regex.U))\n",
    "\n",
    "        s = re.sub(\n",
    "            r\"\\s+\", \" \", s\n",
    "        )  # replace any successive whitespace characters with a space\n",
    "\n",
    "        return s"
   ]
  },
  {
   "cell_type": "code",
   "execution_count": null,
   "metadata": {},
   "outputs": [
    {
     "data": {
      "text/markdown": [
       "---\n",
       "\n",
       "[source](https://github.com/kurianbenoy/whisper_normalizer/blob/main/whisper_normalizer/basic.py#L62){target=\"_blank\" style=\"float:right; font-size:smaller\"}\n",
       "\n",
       "### BasicTextNormalizer\n",
       "\n",
       ">      BasicTextNormalizer (remove_diacritics:bool=False,\n",
       ">                           split_letters:bool=False)\n",
       "\n",
       "Initialize self.  See help(type(self)) for accurate signature."
      ],
      "text/plain": [
       "---\n",
       "\n",
       "[source](https://github.com/kurianbenoy/whisper_normalizer/blob/main/whisper_normalizer/basic.py#L62){target=\"_blank\" style=\"float:right; font-size:smaller\"}\n",
       "\n",
       "### BasicTextNormalizer\n",
       "\n",
       ">      BasicTextNormalizer (remove_diacritics:bool=False,\n",
       ">                           split_letters:bool=False)\n",
       "\n",
       "Initialize self.  See help(type(self)) for accurate signature."
      ]
     },
     "execution_count": null,
     "metadata": {},
     "output_type": "execute_result"
    }
   ],
   "source": [
    "show_doc(BasicTextNormalizer)"
   ]
  },
  {
   "attachments": {},
   "cell_type": "markdown",
   "metadata": {},
   "source": [
    "## Testing Basic Normalizer"
   ]
  },
  {
   "cell_type": "code",
   "execution_count": null,
   "metadata": {},
   "outputs": [
    {
     "data": {
      "text/plain": [
       "'എന റ കമ പ യ ട ടറ ന എന റ ഭ ഷ'"
      ]
     },
     "execution_count": null,
     "metadata": {},
     "output_type": "execute_result"
    }
   ],
   "source": [
    "normalizer = BasicTextNormalizer()\n",
    "normalizer(\"എന്റെ കമ്പ്യൂട്ടറിനു് എന്റെ ഭാഷ\")"
   ]
  },
  {
   "cell_type": "code",
   "execution_count": null,
   "metadata": {},
   "outputs": [],
   "source": [
    "#| hide\n",
    "import nbdev; nbdev.nbdev_export()"
   ]
  },
  {
   "cell_type": "code",
   "execution_count": null,
   "metadata": {},
   "outputs": [],
   "source": []
  }
 ],
 "metadata": {
  "kernelspec": {
   "display_name": "python3",
   "language": "python",
   "name": "python3"
  }
 },
 "nbformat": 4,
 "nbformat_minor": 4
}
