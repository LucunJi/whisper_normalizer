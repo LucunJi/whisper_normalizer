{
 "cells": [
  {
   "attachments": {},
   "cell_type": "markdown",
   "metadata": {},
   "source": [
    "# whisper_normalizer\n",
    "\n",
    "> A python package for text standardisation/normalization approach which is being used in OpenAI whisper.\n",
    "\n",
    "This package is a python implementation of the text standardisation/normalization approach which is being used in OpenAI whisper. The code was originally being released as open-source in [Whisper source code](https://github.com/openai/whisper). More details about the text normalization approach used by whisper can be found on Appendix Section C pp.21 the paper [Robust Speech Recognition via Large-Scale  Weak Supervision](https://cdn.openai.com/papers/whisper.pdf) by OpenAI team."
   ]
  },
  {
   "attachments": {},
   "cell_type": "markdown",
   "metadata": {},
   "source": [
    "## Installation of package"
   ]
  },
  {
   "attachments": {},
   "cell_type": "markdown",
   "metadata": {},
   "source": [
    "```sh\n",
    "pip install whisper_normalizer\n",
    "```\n",
    "\n",
    "or from github repository\n",
    "\n",
    "```sh\n",
    "pip install git+https://github.com/kurianbenoy/whisper_normalizer.git\n",
    "```"
   ]
  },
  {
   "attachments": {},
   "cell_type": "markdown",
   "metadata": {},
   "source": [
    "## Why should we normalize/standardize text?\n",
    "\n",
    "- In ASR systems it's important to normalize the text to reduce error in metrics like WER, CER etc.\n",
    "- Text normalization/standardization is process of converting texts in different styles into a standardized form, which is a best-effort attempt to penalize only when a word error is caused by actually mistranscribing a word, and not by formatting or punctuation differences.(from [Whisper paper](https://cdn.openai.com/papers/whisper.pdf))\n",
    "\n",
    "## Why use this python package?\n",
    "\n",
    "This package is a python implementation of the text standardisation/normalization approach which is being used in OpenAI whisper text normalizer. If you want to use just text normalization alone, it's better to use this\n",
    "instead reimplementing the same thing. OpenAI approach of text normalization is very helpful and is being used as normalization step when evaluating competitive models like [AssemblyAI Conformer-1 model](https://www.assemblyai.com/blog/conformer-1/).\n",
    "\n",
    "## Models evaluated using Whisper normalization\n",
    "\n",
    "- Massively Multilingual Speech (MMS) models by Meta\n",
    "- Conformer 1 by AssemblyAI\n",
    "- Conformer 2 by AssemblyAI"
   ]
  },
  {
   "attachments": {},
   "cell_type": "markdown",
   "metadata": {},
   "source": [
    "## How to use\n",
    "\n",
    "OpenAI open source approach of text normalization/standardization is mentioned in detail Appendix Section C pp.21 the paper [Robust Speech Recognition via Large-Scale  Weak Supervision](https://cdn.openai.com/papers/whisper.pdf).\n",
    "\n",
    "You can use the same thing in this package as follows:"
   ]
  },
  {
   "cell_type": "code",
   "execution_count": null,
   "metadata": {},
   "outputs": [
    {
     "data": {
      "text/plain": [
       "'i m a little teapot short and stout tip me over and pour me out '"
      ]
     },
     "execution_count": null,
     "metadata": {},
     "output_type": "execute_result"
    }
   ],
   "source": [
    "#|eval: false\n",
    "from whisper_normalizer.basic import BasicTextNormalizer\n",
    "\n",
    "normalizer = BasicTextNormalizer()\n",
    "normalizer(\"I'm a little teapot, short and stout. Tip me over and pour me out!\")"
   ]
  },
  {
   "cell_type": "code",
   "execution_count": null,
   "metadata": {},
   "outputs": [
    {
     "data": {
      "text/plain": [
       "'i am a little teapot short and stout tip me over and pour me out'"
      ]
     },
     "execution_count": null,
     "metadata": {},
     "output_type": "execute_result"
    }
   ],
   "source": [
    "#|eval: false\n",
    "from whisper_normalizer.english import EnglishTextNormalizer\n",
    "\n",
    "english_normalizer = EnglishTextNormalizer()\n",
    "english_normalizer(\"I'm a little teapot, short and stout. Tip me over and pour me out!\")"
   ]
  },
  {
   "cell_type": "markdown",
   "metadata": {},
   "source": [
    "This model extends Whisper_normalizer to support indic languages as well. The logic for normalization in Indic languages is derived from [indic-nlp-library](https://github.com/anoopkunchukuttan/indic_nlp_library)."
   ]
  },
  {
   "cell_type": "code",
   "execution_count": null,
   "metadata": {},
   "outputs": [
    {
     "data": {
      "text/plain": [
       "'എന്റെ കമ്പ്യൂട്ടറിനു് എന്റെ ഭാഷ.'"
      ]
     },
     "execution_count": null,
     "metadata": {},
     "output_type": "execute_result"
    }
   ],
   "source": [
    "#|eval: false\n",
    "from whisper_normalizer.indic_normalizer import MalayalamNormalizer\n",
    "\n",
    "normalizer = MalayalamNormalizer()\n",
    "normalizer(\"എന്റെ കമ്പ്യൂട്ടറിനു് എന്റെ ഭാഷ.\")"
   ]
  },
  {
   "cell_type": "code",
   "execution_count": null,
   "metadata": {},
   "outputs": [],
   "source": []
  }
 ],
 "metadata": {
  "kernelspec": {
   "display_name": "python3",
   "language": "python",
   "name": "python3"
  }
 },
 "nbformat": 4,
 "nbformat_minor": 4
}
