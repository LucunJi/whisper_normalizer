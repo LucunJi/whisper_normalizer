{
 "cells": [
  {
   "attachments": {},
   "cell_type": "markdown",
   "metadata": {},
   "source": [
    "# whisper_normalizer\n",
    "\n",
    "> A python package for text standardisation/normalization approach which is being used in OpenAI whisper.\n",
    "\n",
    "This package is a python implementation of the text standardisation/normalization approach which is being used in OpenAI whisper. The code was originally being released as open-source in [Whisper source code](https://github.com/openai/whisper). More details about the text normalization approach used by whisper can be found on Appendix Section C pp.21 the paper [Robust Speech Recognition via Large-Scale  Weak Supervision](https://cdn.openai.com/papers/whisper.pdf) by OpenAI team."
   ]
  },
  {
   "attachments": {},
   "cell_type": "markdown",
   "metadata": {},
   "source": [
    "## Installation of package"
   ]
  },
  {
   "attachments": {},
   "cell_type": "markdown",
   "metadata": {},
   "source": [
    "```sh\n",
    "pip install whisper_normalizer\n",
    "```\n",
    "\n",
    "or from github repository\n",
    "\n",
    "```sh\n",
    "pip install git+https://github.com/kurianbenoy/whisper_normalizer.git\n",
    "```"
   ]
  },
  {
   "cell_type": "markdown",
   "metadata": {},
   "source": [
    "## How to use"
   ]
  },
  {
   "cell_type": "code",
   "execution_count": null,
   "metadata": {},
   "outputs": [
    {
     "data": {
      "text/plain": [
       "'i m a little teapot short and stout tip me over and pour me out '"
      ]
     },
     "execution_count": null,
     "metadata": {},
     "output_type": "execute_result"
    }
   ],
   "source": [
    "from whisper_normalizer.basic import BasicTextNormalizer\n",
    "\n",
    "n = BasicTextNormalizer()\n",
    "n(\"I'm a little teapot, short and stout. Tip me over and pour me out!\")"
   ]
  },
  {
   "cell_type": "code",
   "execution_count": null,
   "metadata": {},
   "outputs": [
    {
     "data": {
      "text/plain": [
       "'i am a little teapot short and stout tip me over and pour me out'"
      ]
     },
     "execution_count": null,
     "metadata": {},
     "output_type": "execute_result"
    }
   ],
   "source": [
    "from whisper_normalizer.english import EnglishTextNormalizer\n",
    "\n",
    "n = EnglishTextNormalizer()\n",
    "n(\"I'm a little teapot, short and stout. Tip me over and pour me out!\")"
   ]
  },
  {
   "attachments": {},
   "cell_type": "markdown",
   "metadata": {},
   "source": [
    "## Why should we use this package?"
   ]
  },
  {
   "cell_type": "markdown",
   "metadata": {},
   "source": []
  },
  {
   "cell_type": "code",
   "execution_count": null,
   "metadata": {},
   "outputs": [],
   "source": []
  }
 ],
 "metadata": {
  "kernelspec": {
   "display_name": "python3",
   "language": "python",
   "name": "python3"
  }
 },
 "nbformat": 4,
 "nbformat_minor": 4
}
